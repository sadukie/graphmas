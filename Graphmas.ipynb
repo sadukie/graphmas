{
    "metadata": {
        "kernelspec": {
            "name": "python3",
            "display_name": "Python 3",
            "language": "python"
        },
        "language_info": {
            "name": "python",
            "version": "3.8.10",
            "mimetype": "text/x-python",
            "codemirror_mode": {
                "name": "ipython",
                "version": 3
            },
            "pygments_lexer": "ipython3",
            "nbconvert_exporter": "python",
            "file_extension": ".py"
        }
    },
    "nbformat_minor": 2,
    "nbformat": 4,
    "cells": [
        {
            "cell_type": "code",
            "source": [
                "#!pip install azureml-opendatasets\r\n",
                "#!pip install gremlinpython"
            ],
            "metadata": {
                "azdata_cell_guid": "c457aeb9-554e-4201-a408-ea30c9593a17"
            },
            "outputs": [],
            "execution_count": null
        },
        {
            "cell_type": "code",
            "source": [
                "# This is a package in preview.\r\n",
                "from azureml.opendatasets import PublicHolidays\r\n",
                "\r\n",
                "from datetime import datetime\r\n",
                "\r\n",
                "end_date = datetime(2021,12,31)\r\n",
                "start_date = datetime(2021,12,1)\r\n",
                "hol = PublicHolidays(start_date=start_date, end_date=end_date)\r\n",
                "hol_df = hol.to_pandas_dataframe()"
            ],
            "metadata": {
                "azdata_cell_guid": "92cd3317-2e1e-443d-bae5-986e1aeab1bf"
            },
            "outputs": [],
            "execution_count": null
        },
        {
            "cell_type": "code",
            "source": [
                "from gremlin_python.driver import client\r\n",
                "# Make sure to create your Cosmos DB Gremlin API endpoint at https://portal.azure.com\r\n",
                "# Create the Database and Collection in the portal\r\n",
                "# This script will populate the data that we use in our demo\r\n",
                "ENDPOINT = 'YOUR-GREMLIN-API-HOST.gremlin.cosmosdb.azure.com'\r\n",
                "PRIMARY_KEY = 'YOUR-GREMLIN-API-READ-WRITE-KEY'\r\n",
                "DATABASE = 'graphmas'\r\n",
                "COLLECTION = 'holidays'"
            ],
            "metadata": {
                "azdata_cell_guid": "bdc1c4e2-1c53-4ecb-ada0-498eb8e26bdb",
                "tags": []
            },
            "outputs": [],
            "execution_count": null
        },
        {
            "cell_type": "code",
            "source": [
                "# Build the vertices - countries, holidays\r\n",
                "VERTICES = []\r\n",
                "EDGES = []\r\n",
                "countries = hol_df.countryOrRegion.unique()\r\n",
                "for country in countries:\r\n",
                "    VERTICES.append(f\"g.addV('Country').property('name','{country}')\")"
            ],
            "metadata": {
                "azdata_cell_guid": "98f28c13-3950-434d-974a-f2e6e0e6b9dd"
            },
            "outputs": [],
            "execution_count": null
        },
        {
            "cell_type": "code",
            "source": [
                "holidays = hol_df[['normalizeHolidayName','date']].drop_duplicates()\r\n",
                "for index,holiday in holidays.iterrows():\r\n",
                "    VERTICES.append(f\"g.addV('Holiday').property('name',\\\"{holiday['normalizeHolidayName']}\\\").property('holidayDate',\\\"{holiday['date']}\\\")\")"
            ],
            "metadata": {
                "azdata_cell_guid": "fab92905-495e-4f12-83e4-55dbe184185b"
            },
            "outputs": [],
            "execution_count": null
        },
        {
            "cell_type": "code",
            "source": [
                "# Build the edges\r\n",
                "for index, holiday in hol_df.iterrows():\r\n",
                "    EDGES.append(f\"g.V().has('name',\\\"{holiday['normalizeHolidayName']}\\\").has('holidayDate','{holiday['date']}').addE('celebrates').from(g.V().hasLabel('Country').has('name','{holiday['countryOrRegion']}'))\")    "
            ],
            "metadata": {
                "azdata_cell_guid": "40b2cc90-b35e-403a-a6bd-3f561ffd346c",
                "tags": []
            },
            "outputs": [],
            "execution_count": null
        },
        {
            "cell_type": "code",
            "source": [
                "# Need the nest_asyncio to help with Jupyter Notebook handling this\r\n",
                "import nest_asyncio\r\n",
                "nest_asyncio.apply()\r\n",
                "\r\n",
                "# Now let's do this\r\n",
                "# This code is based off of this blog post: https://www.taygan.co/blog/2018/01/23/azure-cosmos-db-graph-api-with-python\r\n",
                "from gremlin_python.driver import client, serializer\r\n",
                "\r\n",
                "def cleanup_graph(gremlin_client):    \r\n",
                "    callback = gremlin_client.submitAsync(\"g.V().drop()\")\r\n",
                "    if callback.result() is not None:\r\n",
                "        print(\"Cleaned up the graph!\")\r\n",
                "\r\n",
                "def insert_vertices(gremlin_client):\r\n",
                "    for vertex in VERTICES:\r\n",
                "        callback = gremlin_client.submitAsync(vertex)\r\n",
                "        if callback.result() is None:            \r\n",
                "            print(\"Something went wrong with this query: {0}\".format(vertex))\r\n",
                "\r\n",
                "def insert_edges(gremlin_client):\r\n",
                "    for edge in EDGES:\r\n",
                "        callback = gremlin_client.submitAsync(edge)\r\n",
                "        if callback.result() is None:            \r\n",
                "            print(\"Something went wrong with this query:\\n{0}\".format(edge))\r\n",
                "\r\n",
                "def handler():\r\n",
                "    # Initialise client\r\n",
                "    print('Initializing client...')\r\n",
                "    # GraphSON V2 is called out here, as V3 is not supported yet\r\n",
                "    gremlin_client = client.Client(\r\n",
                "        'wss://' + ENDPOINT + ':443/', 'g',\r\n",
                "        username=\"/dbs/\" + DATABASE + \"/colls/\" + COLLECTION,\r\n",
                "        password=PRIMARY_KEY,\r\n",
                "        message_serializer=serializer.GraphSONSerializersV2d0()\r\n",
                "    )\r\n",
                "    print('Client initialised!')\r\n",
                "\r\n",
                "    # Purge graph\r\n",
                "    cleanup_graph(gremlin_client)\r\n",
                "\r\n",
                "    # Insert vertices (i.e. nodes)\r\n",
                "    insert_vertices(gremlin_client)\r\n",
                "\r\n",
                "    # Insert edges (i.e. nodes)\r\n",
                "    insert_edges(gremlin_client)\r\n",
                "\r\n",
                "    print('Finished!')\r\n",
                "\r\n",
                "if __name__ == '__main__':\r\n",
                "    handler()\r\n",
                ""
            ],
            "metadata": {
                "azdata_cell_guid": "f18231f8-d817-4948-8041-d90e5980d4e9"
            },
            "outputs": [],
            "execution_count": null
        }
    ]
}